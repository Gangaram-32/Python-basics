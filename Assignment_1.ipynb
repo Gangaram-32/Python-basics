{
  "nbformat": 4,
  "nbformat_minor": 0,
  "metadata": {
    "colab": {
      "provenance": []
    },
    "kernelspec": {
      "name": "python3",
      "display_name": "Python 3"
    },
    "language_info": {
      "name": "python"
    }
  },
  "cells": [
    {
      "cell_type": "markdown",
      "source": [
        "1. What is Phython, and why is it popular?\n",
        "-  Phython is a high level, interpreted programming language known for its simlicity, readability and versetility. It is popular because of its extensive libraries, active community and support for multiple domains like web development, data analytics, data science, AI and automation.\n",
        "\n",
        "2. what is an interpreter in phython?\n",
        "- An interpreter is a program that executes phython code line by line, coverting it into machine-readable instructions without requiring prior compilation.\n",
        "3. What are pre defined keywords in phython?\n",
        "- Pre defined keywords are reserved words in python that have specific meanings and cannot be used as variable names (eg..if, else, for, while, true, false)\n",
        "4. Can keywords be used as variable names ?\n",
        "- No keywords cannot be used as variable names as they are reserved for specific functions in the python language.\n",
        "5. What is Mutability in python?\n",
        "- Mutability refers to whether an objects value can be changed after is is created. Mutable objects (eg.. lists, dictionaries) can be modified, whereas immutable objects (eg.. strings, tuples) cannot.\n",
        "6. Why are lists mutable, but tuples are immutable?\n",
        "- Lista are mutable because their elements can be changed,added or removed. Tuples are immutable to ensure data integrity and allows them to be used as keys in dictionaries.\n",
        "7. What is the difference between == and is operators in python?\n",
        "- == checks if two variable have the same value.\n",
        "  is checks if two variables point to te same memory location.\n",
        "8. What are logical operators in python?\n",
        "- Logical operators are used to combine conditions statements:\n",
        "and operator( returns true if both conditions are true)\n",
        "or ( returns true if at least one condition is true)\n",
        "not ( returns the opposite of the condition).\n",
        "9. What is typecasting in python?\n",
        "- Type casting is the process of converting one data type into another.\n",
        "10. What is the difference between imlicit and explicit type casting?\n",
        "- Implicit type casting is performed automatically by python (eg... converting int to float during calculation)\n",
        "-Explicit typecasting is done manually using functions like int(), float() or str().\n",
        "11. What is the purpose of conditional statements in python?\n",
        "- Conditional statements are used to execute code based on certain conditions. (ex..if, elif, else).\n",
        "12. How does the elif statements work?\n",
        "- The elif statements is used to check multiple conditions after the if conditin. It executes its block if the if condition is False and te elif condition is true.\n",
        "13. What is the difference between for and while loops?\n",
        "- FOR Loop: iterates over a sequence ( e g.... list , range)\n",
        "- While Loop: Repeates as long as a specific condition is true.\n",
        "14. Describes a scenario where a while loop is more suitable than a for loop?\n",
        "- A while loop is more suitable when the number of iterations is not known beforehand, such as reading user input untill they type \"exit\"."
      ],
      "metadata": {
        "id": "pbUWAPreUB11"
      }
    },
    {
      "cell_type": "markdown",
      "source": [],
      "metadata": {
        "id": "aQ0o8DVzh6O_"
      }
    },
    {
      "cell_type": "markdown",
      "source": [
        "# Write a python program to print hello world"
      ],
      "metadata": {
        "id": "tEOQC9WwiLJS"
      }
    },
    {
      "cell_type": "code",
      "execution_count": null,
      "metadata": {
        "id": "cAfxn5-fTftR"
      },
      "outputs": [],
      "source": [
        "Print(\"Hello World\")\n"
      ]
    },
    {
      "cell_type": "markdown",
      "source": [
        "Write a pyton proggramme that displays your name and age."
      ],
      "metadata": {
        "id": "MVOrN5oOiUpW"
      }
    },
    {
      "cell_type": "code",
      "source": [
        "name = \"Gangaram chavan\"\n",
        "age = 20\n",
        "print(name)\n",
        "print(age)"
      ],
      "metadata": {
        "colab": {
          "base_uri": "https://localhost:8080/"
        },
        "id": "GHFBi8IhjEnD",
        "outputId": "7e253b26-87bf-4817-bed0-3cd242c91f39"
      },
      "execution_count": null,
      "outputs": [
        {
          "output_type": "stream",
          "name": "stdout",
          "text": [
            "Gangaram chavan\n",
            "20\n"
          ]
        }
      ]
    },
    {
      "cell_type": "markdown",
      "source": [
        "write a code to print all the pre defined keywords in python using the keywords library."
      ],
      "metadata": {
        "id": "1e_DNq6Njfk7"
      }
    },
    {
      "cell_type": "code",
      "source": [
        "import keywords\n",
        "print(keywords.kwlist)\n"
      ],
      "metadata": {
        "id": "2CC1b4IvjfBs"
      },
      "execution_count": null,
      "outputs": []
    },
    {
      "cell_type": "markdown",
      "source": [
        "write a programme that checks if a given word is a python keyword."
      ],
      "metadata": {
        "id": "KKCEjB4skjnr"
      }
    },
    {
      "cell_type": "code",
      "source": [
        "import keyword\n",
        "word = \"if\"\n",
        "if keyword.iskeyword(word):\n",
        "    print(f\"{word} is a python keyword.\")\n",
        "else:\n",
        "    print(f\"{word} is not a python keyword.\")"
      ],
      "metadata": {
        "colab": {
          "base_uri": "https://localhost:8080/"
        },
        "id": "MHcNa39zkjQ6",
        "outputId": "65528bda-b077-462f-9054-741b9c8898e7"
      },
      "execution_count": null,
      "outputs": [
        {
          "output_type": "stream",
          "name": "stdout",
          "text": [
            "if is a python keyword.\n"
          ]
        }
      ]
    },
    {
      "cell_type": "markdown",
      "source": [
        "create list and tuple in python and demonstrate how attempting to change an element works differently for each.\n"
      ],
      "metadata": {
        "id": "o_Fgmbcpk-gV"
      }
    },
    {
      "cell_type": "code",
      "source": [
        "my_list = [1, 2, 3]\n",
        "my_tuple = (1, 2, 3)\n",
        "\n",
        "my_list[0] = 4\n",
        "print(my_list)"
      ],
      "metadata": {
        "colab": {
          "base_uri": "https://localhost:8080/"
        },
        "id": "feouQZYUlP3o",
        "outputId": "49220878-87be-4f16-f6db-644b67e9aeb2"
      },
      "execution_count": null,
      "outputs": [
        {
          "output_type": "stream",
          "name": "stdout",
          "text": [
            "[4, 2, 3]\n"
          ]
        }
      ]
    },
    {
      "cell_type": "markdown",
      "source": [
        "write a function to demonstrate the behavior of mutable and immutable argumemts"
      ],
      "metadata": {
        "id": "w-RFh36dlhuB"
      }
    },
    {
      "cell_type": "code",
      "source": [
        "def modify(obj):\n",
        "    if isinstance(obj, list):\n",
        "        obj.append(4)\n",
        "        elif isinstance(obj, int):\n",
        "            obj +=1\n",
        "            print(\"inside function:\", obj)\n",
        "my_list = [1, 2, 3]\n",
        "my_int = 10\n",
        "\n",
        "modify(my_list)\n",
        "modify(my_int)\n",
        "print(\"outside function(lists):\",my_list)\n",
        "print(\"outside function(int):\",my_int)\n"
      ],
      "metadata": {
        "id": "2koq7icGmQpI"
      },
      "execution_count": null,
      "outputs": []
    },
    {
      "cell_type": "markdown",
      "source": [
        "write a programme to demonstrate te use of logical operators"
      ],
      "metadata": {
        "id": "fuiqhZWIny7d"
      }
    },
    {
      "cell_type": "code",
      "source": [
        "a = 10\n",
        "b = 20\n",
        "print(a > 5 and b > 15) #true\n",
        "print(a > 5 or b > 15) #true\n",
        "print(not(a > 5 and b > 15)) #false"
      ],
      "metadata": {
        "colab": {
          "base_uri": "https://localhost:8080/"
        },
        "id": "CUl75suin8Gx",
        "outputId": "b1b13ed7-9871-4411-84ed-b9f419698691"
      },
      "execution_count": null,
      "outputs": [
        {
          "output_type": "stream",
          "name": "stdout",
          "text": [
            "True\n",
            "True\n",
            "False\n"
          ]
        }
      ]
    },
    {
      "cell_type": "markdown",
      "source": [
        "write a pyton program to converts user input from strings to integer,float and boolean types"
      ],
      "metadata": {
        "id": "_qZCwABYoLe4"
      }
    },
    {
      "cell_type": "code",
      "source": [
        "user_input = input(\"enter a value:\")\n",
        "int_value = int(user_input)\n",
        "float_value = float(user_input)\n",
        "bool_value = bool(user_input)\n",
        "print(int_value)\n",
        "print(float_value)\n",
        "print(bool_value)"
      ],
      "metadata": {
        "id": "nmhMkwDOobfp"
      },
      "execution_count": null,
      "outputs": []
    },
    {
      "cell_type": "markdown",
      "source": [
        "write code to demonstate type casting with list elements"
      ],
      "metadata": {
        "id": "PN5OUm5QpUgZ"
      }
    },
    {
      "cell_type": "code",
      "source": [
        "my_list = [1, 2, 3]\n",
        "my_list = [int(x) for x in my_list]\n",
        "print(my_list)"
      ],
      "metadata": {
        "id": "0tvxyDskpd6E"
      },
      "execution_count": null,
      "outputs": []
    },
    {
      "cell_type": "markdown",
      "source": [
        "write a programme that checks if a number is positive, negative or zero."
      ],
      "metadata": {
        "id": "Oj8ObuGepyR6"
      }
    },
    {
      "cell_type": "code",
      "source": [
        "num = int(input(\"enter a number:\"))\n",
        "if num > 0:\n",
        "    print(\"positive\")\n",
        "elif num < 0:\n",
        "    print(\"negative\")\n",
        "else:\n",
        "    print(\"zero\")"
      ],
      "metadata": {
        "id": "HwdfsKQzqCv2"
      },
      "execution_count": null,
      "outputs": []
    },
    {
      "cell_type": "markdown",
      "source": [
        "Write a for loop to print numbers from 1 to 10"
      ],
      "metadata": {
        "id": "rE1GAcUHqKgz"
      }
    },
    {
      "cell_type": "code",
      "source": [
        "for i in range(1,11):\n",
        "    print(i)"
      ],
      "metadata": {
        "id": "pEBKd7uQqVbO"
      },
      "execution_count": null,
      "outputs": []
    },
    {
      "cell_type": "markdown",
      "source": [
        "Write a python program to find the sum of all even numbers between 1 and 50"
      ],
      "metadata": {
        "id": "W4KHSlYyqYvl"
      }
    },
    {
      "cell_type": "code",
      "source": [
        "print(1, 51) if i % 2 == 0:\n",
        "    print(i)"
      ],
      "metadata": {
        "id": "lQzrG9Ncqkcy"
      },
      "execution_count": null,
      "outputs": []
    },
    {
      "cell_type": "markdown",
      "source": [
        "write a programme to reverse a string using a while loop"
      ],
      "metadata": {
        "id": "GVPEGqBrq4w_"
      }
    },
    {
      "cell_type": "code",
      "source": [
        "string = \"Gangaram\"\n",
        "reversed_string = \"\"\n",
        "index = len(string) - 1\n",
        "while index >= 0:\n",
        "    reversed_string += string[index]\n",
        "    index -= 1\n",
        "print(reversed_string)"
      ],
      "metadata": {
        "id": "C7VVZ71Iq_bB"
      },
      "execution_count": null,
      "outputs": []
    },
    {
      "cell_type": "markdown",
      "source": [
        "write a pyton program to calculate the factorial of a number provided by the user using a while loop"
      ],
      "metadata": {
        "id": "Daw98C0brF-8"
      }
    },
    {
      "cell_type": "code",
      "source": [
        "num = int(input(\"enter a number:\"))\n",
        "factorial = 1\n",
        "while num > 0:\n",
        "    factorial *= num\n",
        "    num -= 1\n",
        "print(factorial)"
      ],
      "metadata": {
        "id": "aLeXNVMerbA5"
      },
      "execution_count": null,
      "outputs": []
    }
  ]
}